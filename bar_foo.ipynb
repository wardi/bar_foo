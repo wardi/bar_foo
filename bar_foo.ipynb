{
 "metadata": {
  "name": "bar_foo"
 }, 
 "nbformat": 2, 
 "worksheets": [
  {
   "cells": [
    {
     "cell_type": "markdown", 
     "source": [
      "# What does `bar.foo` do?", 
      "", 
      "An exploration of Python assignment, objects, attributes and descriptors"
     ]
    }, 
    {
     "cell_type": "markdown", 
     "source": [
      "First: what does `foo` do?", 
      "", 
      "Better question: how can we make `foo` do something we want?"
     ]
    }, 
    {
     "cell_type": "markdown", 
     "source": [
      "## 1.1. Binding objects to names: assignment"
     ]
    }, 
    {
     "cell_type": "code", 
     "collapsed": false, 
     "input": [
      "foo"
     ], 
     "language": "python", 
     "outputs": [
      {
       "ename": "NameError", 
       "evalue": "name 'foo' is not defined", 
       "output_type": "pyerr", 
       "traceback": [
        "\u001b[0;31m---------------------------------------------------------------------------\u001b[0m\n\u001b[0;31mNameError\u001b[0m                                 Traceback (most recent call last)", 
        "\u001b[0;32m/home/ian/git/bar_foo/<ipython-input-1-d3b07384d113>\u001b[0m in \u001b[0;36m<module>\u001b[0;34m()\u001b[0m\n\u001b[0;32m----> 1\u001b[0;31m \u001b[0mfoo\u001b[0m\u001b[0;34m\u001b[0m\u001b[0m\n\u001b[0m", 
        "\u001b[0;31mNameError\u001b[0m: name 'foo' is not defined"
       ]
      }
     ], 
     "prompt_number": 1
    }, 
    {
     "cell_type": "code", 
     "collapsed": true, 
     "input": [
      "foo = 'tesla'"
     ], 
     "language": "python", 
     "outputs": [], 
     "prompt_number": 2
    }, 
    {
     "cell_type": "code", 
     "collapsed": false, 
     "input": [
      "foo"
     ], 
     "language": "python", 
     "outputs": [
      {
       "output_type": "pyout", 
       "prompt_number": 3, 
       "text": [
        "'tesla'"
       ]
      }
     ], 
     "prompt_number": 3
    }, 
    {
     "cell_type": "code", 
     "collapsed": true, 
     "input": [
      "del foo"
     ], 
     "language": "python", 
     "outputs": [], 
     "prompt_number": 4
    }, 
    {
     "cell_type": "code", 
     "collapsed": false, 
     "input": [
      "foo"
     ], 
     "language": "python", 
     "outputs": [
      {
       "ename": "NameError", 
       "evalue": "name 'foo' is not defined", 
       "output_type": "pyerr", 
       "traceback": [
        "\u001b[0;31m---------------------------------------------------------------------------\u001b[0m\n\u001b[0;31mNameError\u001b[0m                                 Traceback (most recent call last)", 
        "\u001b[0;32m/home/ian/git/bar_foo/<ipython-input-5-d3b07384d113>\u001b[0m in \u001b[0;36m<module>\u001b[0;34m()\u001b[0m\n\u001b[0;32m----> 1\u001b[0;31m \u001b[0mfoo\u001b[0m\u001b[0;34m\u001b[0m\u001b[0m\n\u001b[0m", 
        "\u001b[0;31mNameError\u001b[0m: name 'foo' is not defined"
       ]
      }
     ], 
     "prompt_number": 5
    }, 
    {
     "cell_type": "markdown", 
     "source": [
      "## 1.2. `def`"
     ]
    }, 
    {
     "cell_type": "code", 
     "collapsed": true, 
     "input": [
      "def foo():", 
      "    return 42"
     ], 
     "language": "python", 
     "outputs": [], 
     "prompt_number": 6
    }, 
    {
     "cell_type": "code", 
     "collapsed": false, 
     "input": [
      "foo"
     ], 
     "language": "python", 
     "outputs": [
      {
       "output_type": "pyout", 
       "prompt_number": 7, 
       "text": [
        "<function __main__.foo>"
       ]
      }
     ], 
     "prompt_number": 7
    }, 
    {
     "cell_type": "code", 
     "collapsed": true, 
     "input": [
      "foo2 = foo"
     ], 
     "language": "python", 
     "outputs": [], 
     "prompt_number": 8
    }, 
    {
     "cell_type": "code", 
     "collapsed": false, 
     "input": [
      "foo2()"
     ], 
     "language": "python", 
     "outputs": [
      {
       "output_type": "pyout", 
       "prompt_number": 9, 
       "text": [
        "42"
       ]
      }
     ], 
     "prompt_number": 9
    }, 
    {
     "cell_type": "code", 
     "collapsed": false, 
     "input": [
      "foo2 is foo"
     ], 
     "language": "python", 
     "outputs": [
      {
       "output_type": "pyout", 
       "prompt_number": 10, 
       "text": [
        "True"
       ]
      }
     ], 
     "prompt_number": 10
    }, 
    {
     "cell_type": "markdown", 
     "source": [
      "## 1.3. `class`"
     ]
    }, 
    {
     "cell_type": "code", 
     "collapsed": true, 
     "input": [
      "class Foo(object):", 
      "    pass"
     ], 
     "language": "python", 
     "outputs": [], 
     "prompt_number": 11
    }, 
    {
     "cell_type": "code", 
     "collapsed": false, 
     "input": [
      "Foo"
     ], 
     "language": "python", 
     "outputs": [
      {
       "output_type": "pyout", 
       "prompt_number": 12, 
       "text": [
        "__main__.Foo"
       ]
      }
     ], 
     "prompt_number": 12
    }, 
    {
     "cell_type": "markdown", 
     "source": [
      "## 1.4. `for`..`in`"
     ]
    }, 
    {
     "cell_type": "code", 
     "collapsed": true, 
     "input": [
      "for foo in [1, 2, 3]:", 
      "    pass"
     ], 
     "language": "python", 
     "outputs": [], 
     "prompt_number": 13
    }, 
    {
     "cell_type": "code", 
     "collapsed": false, 
     "input": [
      "foo"
     ], 
     "language": "python", 
     "outputs": [
      {
       "output_type": "pyout", 
       "prompt_number": 14, 
       "text": [
        "3"
       ]
      }
     ], 
     "prompt_number": 14
    }, 
    {
     "cell_type": "markdown", 
     "source": [
      "## 1.5. `import`"
     ]
    }, 
    {
     "cell_type": "code", 
     "collapsed": true, 
     "input": [
      "import sys as foo"
     ], 
     "language": "python", 
     "outputs": [], 
     "prompt_number": 15
    }, 
    {
     "cell_type": "code", 
     "collapsed": false, 
     "input": [
      "foo"
     ], 
     "language": "python", 
     "outputs": [
      {
       "output_type": "pyout", 
       "prompt_number": 16, 
       "text": [
        "<module 'sys' (built-in)>"
       ]
      }
     ], 
     "prompt_number": 16
    }, 
    {
     "cell_type": "markdown", 
     "source": [
      "## 1.6. `try`..`except`"
     ]
    }, 
    {
     "cell_type": "code", 
     "collapsed": true, 
     "input": [
      "try:", 
      "    1/0", 
      "except ZeroDivisionError as foo:", 
      "    pass"
     ], 
     "language": "python", 
     "outputs": [], 
     "prompt_number": 17
    }, 
    {
     "cell_type": "code", 
     "collapsed": false, 
     "input": [
      "foo"
     ], 
     "language": "python", 
     "outputs": [
      {
       "output_type": "pyout", 
       "prompt_number": 18, 
       "text": [
        "ZeroDivisionError('integer division or modulo by zero')"
       ]
      }
     ], 
     "prompt_number": 18
    }, 
    {
     "cell_type": "markdown", 
     "source": [
      "## 1.7. `with`"
     ]
    }, 
    {
     "cell_type": "code", 
     "collapsed": true, 
     "input": [
      "with open('/tmp/things', 'w') as foo:", 
      "    pass"
     ], 
     "language": "python", 
     "outputs": [], 
     "prompt_number": 19
    }, 
    {
     "cell_type": "code", 
     "collapsed": false, 
     "input": [
      "foo"
     ], 
     "language": "python", 
     "outputs": [
      {
       "output_type": "pyout", 
       "prompt_number": 20, 
       "text": [
        "<closed file '/tmp/things', mode 'w' at 0x2ca3150>"
       ]
      }
     ], 
     "prompt_number": 20
    }, 
    {
     "cell_type": "markdown", 
     "source": [
      "## 1.8. Decorators"
     ]
    }, 
    {
     "cell_type": "code", 
     "collapsed": true, 
     "input": [
      "def serious_decorator(f):", 
      "    return str(f) + ' is much too silly'", 
      "", 
      "@serious_decorator", 
      "def foo():", 
      "    return 42"
     ], 
     "language": "python", 
     "outputs": [], 
     "prompt_number": 21
    }, 
    {
     "cell_type": "code", 
     "collapsed": false, 
     "input": [
      "foo"
     ], 
     "language": "python", 
     "outputs": [
      {
       "output_type": "pyout", 
       "prompt_number": 22, 
       "text": [
        "'<function foo at 0x2d686e0> is much too silly'"
       ]
      }
     ], 
     "prompt_number": 22
    }, 
    {
     "cell_type": "markdown", 
     "source": [
      "## 1.9.1. Evil ways to bind names: `vars`, `locals`, `globals`"
     ]
    }, 
    {
     "cell_type": "code", 
     "collapsed": true, 
     "input": [
      "vars()['foo'] = 'tesla'"
     ], 
     "language": "python", 
     "outputs": [], 
     "prompt_number": 23
    }, 
    {
     "cell_type": "code", 
     "collapsed": false, 
     "input": [
      "foo"
     ], 
     "language": "python", 
     "outputs": [
      {
       "output_type": "pyout", 
       "prompt_number": 24, 
       "text": [
        "'tesla'"
       ]
      }
     ], 
     "prompt_number": 24
    }, 
    {
     "cell_type": "markdown", 
     "source": [
      "## 1.9.2. Evil use of list comprehensions (does not work in Python 3)"
     ]
    }, 
    {
     "cell_type": "code", 
     "collapsed": false, 
     "input": [
      "[None for foo in [1,2,3]]"
     ], 
     "language": "python", 
     "outputs": [
      {
       "output_type": "pyout", 
       "prompt_number": 25, 
       "text": [
        "[None, None, None]"
       ]
      }
     ], 
     "prompt_number": 25
    }, 
    {
     "cell_type": "code", 
     "collapsed": false, 
     "input": [
      "foo"
     ], 
     "language": "python", 
     "outputs": [
      {
       "output_type": "pyout", 
       "prompt_number": 26, 
       "text": [
        "3"
       ]
      }
     ], 
     "prompt_number": 26
    }, 
    {
     "cell_type": "markdown", 
     "source": [
      "## 1.9.3. Evil stack frame manipulation"
     ]
    }, 
    {
     "cell_type": "code", 
     "collapsed": true, 
     "input": [
      "def im_in_ur_frame():", 
      "    import sys", 
      "    frame = sys._getframe(1)", 
      "    frame.f_locals['foo'] = 'writin ur vars'"
     ], 
     "language": "python", 
     "outputs": [], 
     "prompt_number": 27
    }, 
    {
     "cell_type": "code", 
     "collapsed": true, 
     "input": [
      "im_in_ur_frame()"
     ], 
     "language": "python", 
     "outputs": [], 
     "prompt_number": 28
    }, 
    {
     "cell_type": "code", 
     "collapsed": false, 
     "input": [
      "foo"
     ], 
     "language": "python", 
     "outputs": [
      {
       "output_type": "pyout", 
       "prompt_number": 29, 
       "text": [
        "'writin ur vars'"
       ]
      }
     ], 
     "prompt_number": 29
    }, 
    {
     "cell_type": "markdown", 
     "source": [
      "## 1.9.4. Evil use of `import`"
     ]
    }, 
    {
     "cell_type": "code", 
     "collapsed": true, 
     "input": [
      "from os.path import *"
     ], 
     "language": "python", 
     "outputs": [], 
     "prompt_number": 30
    }, 
    {
     "cell_type": "code", 
     "collapsed": false, 
     "input": [
      "ismount"
     ], 
     "language": "python", 
     "outputs": [
      {
       "output_type": "pyout", 
       "prompt_number": 31, 
       "text": [
        "<function posixpath.ismount>"
       ]
      }
     ], 
     "prompt_number": 31
    }, 
    {
     "cell_type": "markdown", 
     "source": [
      "We have at least 8 non-evil ways to bind objects to `foo`, a local name.", 
      "", 
      "Now how can we make `bar.foo` do something we want?"
     ]
    }, 
    {
     "cell_type": "markdown", 
     "source": [
      "## 2.1. Builtin objects with attributes"
     ]
    }, 
    {
     "cell_type": "code", 
     "collapsed": true, 
     "input": [
      "bar = 2 + 3j"
     ], 
     "language": "python", 
     "outputs": [], 
     "prompt_number": 32
    }, 
    {
     "cell_type": "code", 
     "collapsed": false, 
     "input": [
      "bar.imag"
     ], 
     "language": "python", 
     "outputs": [
      {
       "output_type": "pyout", 
       "prompt_number": 33, 
       "text": [
        "3.0"
       ]
      }
     ], 
     "prompt_number": 33
    }, 
    {
     "cell_type": "code", 
     "collapsed": true, 
     "input": [
      "bar = open(\"/tmp/things\", \"w\")"
     ], 
     "language": "python", 
     "outputs": [], 
     "prompt_number": 34
    }, 
    {
     "cell_type": "code", 
     "collapsed": false, 
     "input": [
      "bar.closed"
     ], 
     "language": "python", 
     "outputs": [
      {
       "output_type": "pyout", 
       "prompt_number": 35, 
       "text": [
        "False"
       ]
      }
     ], 
     "prompt_number": 35
    }, 
    {
     "cell_type": "code", 
     "collapsed": true, 
     "input": [
      "bar.close()"
     ], 
     "language": "python", 
     "outputs": [], 
     "prompt_number": 36
    }, 
    {
     "cell_type": "markdown", 
     "source": [
      "## 2.2. `collections.namedtuple`"
     ]
    }, 
    {
     "cell_type": "code", 
     "collapsed": true, 
     "input": [
      "from collections import namedtuple", 
      "Hotel = namedtuple('Hotel', 'foo baz')"
     ], 
     "language": "python", 
     "outputs": [], 
     "prompt_number": 37
    }, 
    {
     "cell_type": "code", 
     "collapsed": true, 
     "input": [
      "bar = Hotel(42, 'shoe')"
     ], 
     "language": "python", 
     "outputs": [], 
     "prompt_number": 38
    }, 
    {
     "cell_type": "code", 
     "collapsed": false, 
     "input": [
      "bar.foo"
     ], 
     "language": "python", 
     "outputs": [
      {
       "output_type": "pyout", 
       "prompt_number": 39, 
       "text": [
        "42"
       ]
      }
     ], 
     "prompt_number": 39
    }, 
    {
     "cell_type": "code", 
     "collapsed": false, 
     "input": [
      "bar"
     ], 
     "language": "python", 
     "outputs": [
      {
       "output_type": "pyout", 
       "prompt_number": 40, 
       "text": [
        "Hotel(foo=42, baz='shoe')"
       ]
      }
     ], 
     "prompt_number": 40
    }, 
    {
     "cell_type": "code", 
     "collapsed": false, 
     "input": [
      "bar[1]"
     ], 
     "language": "python", 
     "outputs": [
      {
       "output_type": "pyout", 
       "prompt_number": 41, 
       "text": [
        "'shoe'"
       ]
      }
     ], 
     "prompt_number": 41
    }, 
    {
     "cell_type": "code", 
     "collapsed": false, 
     "input": [
      "bar.foo = 'tesla'"
     ], 
     "language": "python", 
     "outputs": [
      {
       "ename": "AttributeError", 
       "evalue": "can't set attribute", 
       "output_type": "pyerr", 
       "traceback": [
        "\u001b[0;31m---------------------------------------------------------------------------\u001b[0m\n\u001b[0;31mAttributeError\u001b[0m                            Traceback (most recent call last)", 
        "\u001b[0;32m/home/ian/git/bar_foo/<ipython-input-42-463460b3ac05>\u001b[0m in \u001b[0;36m<module>\u001b[0;34m()\u001b[0m\n\u001b[0;32m----> 1\u001b[0;31m \u001b[0mbar\u001b[0m\u001b[0;34m.\u001b[0m\u001b[0mfoo\u001b[0m \u001b[0;34m=\u001b[0m \u001b[0;34m'tesla'\u001b[0m\u001b[0;34m\u001b[0m\u001b[0m\n\u001b[0m", 
        "\u001b[0;31mAttributeError\u001b[0m: can't set attribute"
       ]
      }
     ], 
     "prompt_number": 42
    }, 
    {
     "cell_type": "markdown", 
     "source": [
      "## 2.3. Assigning object attributes (not normally done this way!)"
     ]
    }, 
    {
     "cell_type": "code", 
     "collapsed": true, 
     "input": [
      "class Hotel(object):", 
      "    pass"
     ], 
     "language": "python", 
     "outputs": [], 
     "prompt_number": 43
    }, 
    {
     "cell_type": "code", 
     "collapsed": true, 
     "input": [
      "bar = Hotel()"
     ], 
     "language": "python", 
     "outputs": [], 
     "prompt_number": 44
    }, 
    {
     "cell_type": "code", 
     "collapsed": false, 
     "input": [
      "bar"
     ], 
     "language": "python", 
     "outputs": [
      {
       "output_type": "pyout", 
       "prompt_number": 45, 
       "text": [
        "<__main__.Hotel at 0x2d78050>"
       ]
      }
     ], 
     "prompt_number": 45
    }, 
    {
     "cell_type": "code", 
     "collapsed": true, 
     "input": [
      "bar.foo = 'tesla'"
     ], 
     "language": "python", 
     "outputs": [], 
     "prompt_number": 46
    }, 
    {
     "cell_type": "code", 
     "collapsed": false, 
     "input": [
      "bar.foo"
     ], 
     "language": "python", 
     "outputs": [
      {
       "output_type": "pyout", 
       "prompt_number": 47, 
       "text": [
        "'tesla'"
       ]
      }
     ], 
     "prompt_number": 47
    }, 
    {
     "cell_type": "markdown", 
     "source": [
      "### assign within a method"
     ]
    }, 
    {
     "cell_type": "code", 
     "collapsed": true, 
     "input": [
      "class Motel(object):", 
      "    def __init__(self):", 
      "        self.foo = 'vespa'"
     ], 
     "language": "python", 
     "outputs": [], 
     "prompt_number": 48
    }, 
    {
     "cell_type": "code", 
     "collapsed": true, 
     "input": [
      "bar = Motel()"
     ], 
     "language": "python", 
     "outputs": [], 
     "prompt_number": 49
    }, 
    {
     "cell_type": "code", 
     "collapsed": false, 
     "input": [
      "bar"
     ], 
     "language": "python", 
     "outputs": [
      {
       "output_type": "pyout", 
       "prompt_number": 50, 
       "text": [
        "<__main__.Motel at 0x2d78150>"
       ]
      }
     ], 
     "prompt_number": 50
    }, 
    {
     "cell_type": "code", 
     "collapsed": false, 
     "input": [
      "bar.foo"
     ], 
     "language": "python", 
     "outputs": [
      {
       "output_type": "pyout", 
       "prompt_number": 51, 
       "text": [
        "'vespa'"
       ]
      }
     ], 
     "prompt_number": 51
    }, 
    {
     "cell_type": "markdown", 
     "source": [
      "## 2.3.1. Evil use of `setattr`"
     ]
    }, 
    {
     "cell_type": "code", 
     "collapsed": true, 
     "input": [
      "class Martini(object):", 
      "    pass"
     ], 
     "language": "python", 
     "outputs": [], 
     "prompt_number": 52
    }, 
    {
     "cell_type": "code", 
     "collapsed": true, 
     "input": [
      "bar = Martini()"
     ], 
     "language": "python", 
     "outputs": [], 
     "prompt_number": 53
    }, 
    {
     "cell_type": "code", 
     "collapsed": true, 
     "input": [
      "setattr(bar, 'foo', 'twenty bucks')"
     ], 
     "language": "python", 
     "outputs": [], 
     "prompt_number": 54
    }, 
    {
     "cell_type": "code", 
     "collapsed": false, 
     "input": [
      "bar.foo"
     ], 
     "language": "python", 
     "outputs": [
      {
       "output_type": "pyout", 
       "prompt_number": 55, 
       "text": [
        "'twenty bucks'"
       ]
      }
     ], 
     "prompt_number": 55
    }, 
    {
     "cell_type": "markdown", 
     "source": [
      "## 2.3.2. Use of `__dict__`, almost always evil"
     ]
    }, 
    {
     "cell_type": "code", 
     "collapsed": true, 
     "input": [
      "class Hangout(object):", 
      "    pass"
     ], 
     "language": "python", 
     "outputs": [], 
     "prompt_number": 56
    }, 
    {
     "cell_type": "code", 
     "collapsed": true, 
     "input": [
      "bar = Hangout()"
     ], 
     "language": "python", 
     "outputs": [], 
     "prompt_number": 57
    }, 
    {
     "cell_type": "code", 
     "collapsed": true, 
     "input": [
      "bar.__dict__['foo'] = 'hipster'"
     ], 
     "language": "python", 
     "outputs": [], 
     "prompt_number": 58
    }, 
    {
     "cell_type": "code", 
     "collapsed": false, 
     "input": [
      "bar.foo"
     ], 
     "language": "python", 
     "outputs": [
      {
       "output_type": "pyout", 
       "prompt_number": 59, 
       "text": [
        "'hipster'"
       ]
      }
     ], 
     "prompt_number": 59
    }, 
    {
     "cell_type": "code", 
     "collapsed": false, 
     "input": [
      "bar.__dict__"
     ], 
     "language": "python", 
     "outputs": [
      {
       "output_type": "pyout", 
       "prompt_number": 60, 
       "text": [
        "{'foo': 'hipster'}"
       ]
      }
     ], 
     "prompt_number": 60
    }, 
    {
     "cell_type": "markdown", 
     "source": [
      "EXTRA WARNING: `__dict__` is an implementation detail and isn't guaranteed to be there.", 
      "In particular if you're using a `namedtuple` or a class with `__slots__` defined", 
      "there will be no `__dict__` with your objects attributes at all."
     ]
    }, 
    {
     "cell_type": "markdown", 
     "source": [
      "## 2.4. Assigning class attributes (not normally done this way!)"
     ]
    }, 
    {
     "cell_type": "code", 
     "collapsed": true, 
     "input": [
      "class Bar(object):", 
      "    pass"
     ], 
     "language": "python", 
     "outputs": [], 
     "prompt_number": 61
    }, 
    {
     "cell_type": "code", 
     "collapsed": false, 
     "input": [
      "Bar"
     ], 
     "language": "python", 
     "outputs": [
      {
       "output_type": "pyout", 
       "prompt_number": 62, 
       "text": [
        "__main__.Bar"
       ]
      }
     ], 
     "prompt_number": 62
    }, 
    {
     "cell_type": "code", 
     "collapsed": true, 
     "input": [
      "Bar.foo = 'Blanche de Chambly'"
     ], 
     "language": "python", 
     "outputs": [], 
     "prompt_number": 63
    }, 
    {
     "cell_type": "code", 
     "collapsed": false, 
     "input": [
      "Bar.foo"
     ], 
     "language": "python", 
     "outputs": [
      {
       "output_type": "pyout", 
       "prompt_number": 64, 
       "text": [
        "'Blanche de Chambly'"
       ]
      }
     ], 
     "prompt_number": 64
    }, 
    {
     "cell_type": "markdown", 
     "source": [
      "### Assign within the class definition"
     ]
    }, 
    {
     "cell_type": "code", 
     "collapsed": true, 
     "input": [
      "class Bar(object):", 
      "    foo = 'Porter Baltique'"
     ], 
     "language": "python", 
     "outputs": [], 
     "prompt_number": 65
    }, 
    {
     "cell_type": "code", 
     "collapsed": false, 
     "input": [
      "Bar"
     ], 
     "language": "python", 
     "outputs": [
      {
       "output_type": "pyout", 
       "prompt_number": 66, 
       "text": [
        "__main__.Bar"
       ]
      }
     ], 
     "prompt_number": 66
    }, 
    {
     "cell_type": "code", 
     "collapsed": false, 
     "input": [
      "Bar.foo"
     ], 
     "language": "python", 
     "outputs": [
      {
       "output_type": "pyout", 
       "prompt_number": 67, 
       "text": [
        "'Porter Baltique'"
       ]
      }
     ], 
     "prompt_number": 67
    }, 
    {
     "cell_type": "markdown", 
     "source": [
      "### Object attributes > class attributes"
     ]
    }, 
    {
     "cell_type": "code", 
     "collapsed": true, 
     "input": [
      "class Club(object):", 
      "    pass"
     ], 
     "language": "python", 
     "outputs": [], 
     "prompt_number": 68
    }, 
    {
     "cell_type": "code", 
     "collapsed": true, 
     "input": [
      "bar = Club()"
     ], 
     "language": "python", 
     "outputs": [], 
     "prompt_number": 69
    }, 
    {
     "cell_type": "code", 
     "collapsed": true, 
     "input": [
      "bar.foo = 'techno'", 
      "Club.foo = 'chocololate'"
     ], 
     "language": "python", 
     "outputs": [], 
     "prompt_number": 70
    }, 
    {
     "cell_type": "code", 
     "collapsed": false, 
     "input": [
      "bar.foo"
     ], 
     "language": "python", 
     "outputs": [
      {
       "output_type": "pyout", 
       "prompt_number": 71, 
       "text": [
        "'techno'"
       ]
      }
     ], 
     "prompt_number": 71
    }, 
    {
     "cell_type": "code", 
     "collapsed": true, 
     "input": [
      "del bar.foo"
     ], 
     "language": "python", 
     "outputs": [], 
     "prompt_number": 72
    }, 
    {
     "cell_type": "code", 
     "collapsed": false, 
     "input": [
      "bar.foo"
     ], 
     "language": "python", 
     "outputs": [
      {
       "output_type": "pyout", 
       "prompt_number": 73, 
       "text": [
        "'chocololate'"
       ]
      }
     ], 
     "prompt_number": 73
    }, 
    {
     "cell_type": "markdown", 
     "source": [
      "## 2.4.1. Assigninment of class attributes, with evil"
     ]
    }, 
    {
     "cell_type": "code", 
     "collapsed": true, 
     "input": [
      "class Dive(object):", 
      "    pass"
     ], 
     "language": "python", 
     "outputs": [], 
     "prompt_number": 74
    }, 
    {
     "cell_type": "code", 
     "collapsed": false, 
     "input": [
      "setattr(Dive, 'foo', 'rusty nail')", 
      "Dive.foo"
     ], 
     "language": "python", 
     "outputs": [
      {
       "output_type": "pyout", 
       "prompt_number": 75, 
       "text": [
        "'rusty nail'"
       ]
      }
     ], 
     "prompt_number": 75
    }, 
    {
     "cell_type": "markdown", 
     "source": [
      "## 2.4.2. Assignment of class attributes, the wacky ways"
     ]
    }, 
    {
     "cell_type": "code", 
     "collapsed": true, 
     "input": [
      "class Bestiary(object):", 
      "    import sys as mod", 
      "    class Klass(object):", 
      "        pass", 
      "    for looper in [1, 2, 3]:", 
      "        pass", 
      "    try:", 
      "        1/0", 
      "    except ZeroDivisionError as exc:", 
      "        pass", 
      "    with open('/tmp/wat', 'w') as closedfile:", 
      "        pass"
     ], 
     "language": "python", 
     "outputs": [], 
     "prompt_number": 130
    }, 
    {
     "cell_type": "code", 
     "collapsed": false, 
     "input": [
      "Bestiary.mod"
     ], 
     "language": "python", 
     "outputs": [
      {
       "output_type": "pyout", 
       "prompt_number": 131, 
       "text": [
        "<module 'sys' (built-in)>"
       ]
      }
     ], 
     "prompt_number": 131
    }, 
    {
     "cell_type": "code", 
     "collapsed": false, 
     "input": [
      "Bestiary.Klass"
     ], 
     "language": "python", 
     "outputs": [
      {
       "output_type": "pyout", 
       "prompt_number": 132, 
       "text": [
        "__main__.Klass"
       ]
      }
     ], 
     "prompt_number": 132
    }, 
    {
     "cell_type": "code", 
     "collapsed": false, 
     "input": [
      "Bestiary.looper"
     ], 
     "language": "python", 
     "outputs": [
      {
       "output_type": "pyout", 
       "prompt_number": 133, 
       "text": [
        "3"
       ]
      }
     ], 
     "prompt_number": 133
    }, 
    {
     "cell_type": "code", 
     "collapsed": false, 
     "input": [
      "Bestiary.exc"
     ], 
     "language": "python", 
     "outputs": [
      {
       "output_type": "pyout", 
       "prompt_number": 134, 
       "text": [
        "ZeroDivisionError('integer division or modulo by zero')"
       ]
      }
     ], 
     "prompt_number": 134
    }, 
    {
     "cell_type": "code", 
     "collapsed": false, 
     "input": [
      "Bestiary.closedfile"
     ], 
     "language": "python", 
     "outputs": [
      {
       "output_type": "pyout", 
       "prompt_number": 135, 
       "text": [
        "<closed file '/tmp/wat', mode 'w' at 0x2ca3810>"
       ]
      }
     ], 
     "prompt_number": 135
    }, 
    {
     "cell_type": "markdown", 
     "source": [
      "## 2.5. `__getattr__`"
     ]
    }, 
    {
     "cell_type": "code", 
     "collapsed": true, 
     "input": [
      "class Lounge(object):", 
      "    def __getattr__(self, name):", 
      "        if name == 'foo':", 
      "            return 'lizard'", 
      "        raise AttributeError(\"%r object has no attribute %r\"", 
      "            % (self.__class__.__name__, name))"
     ], 
     "language": "python", 
     "outputs": [], 
     "prompt_number": 76
    }, 
    {
     "cell_type": "code", 
     "collapsed": true, 
     "input": [
      "bar = Lounge()"
     ], 
     "language": "python", 
     "outputs": [], 
     "prompt_number": 77
    }, 
    {
     "cell_type": "code", 
     "collapsed": false, 
     "input": [
      "bar.foo"
     ], 
     "language": "python", 
     "outputs": [
      {
       "output_type": "pyout", 
       "prompt_number": 78, 
       "text": [
        "'lizard'"
       ]
      }
     ], 
     "prompt_number": 78
    }, 
    {
     "cell_type": "code", 
     "collapsed": false, 
     "input": [
      "bar.baz"
     ], 
     "language": "python", 
     "outputs": [
      {
       "ename": "AttributeError", 
       "evalue": "'Lounge' object has no attribute 'baz'", 
       "output_type": "pyerr", 
       "traceback": [
        "\u001b[0;31m---------------------------------------------------------------------------\u001b[0m\n\u001b[0;31mAttributeError\u001b[0m                            Traceback (most recent call last)", 
        "\u001b[0;32m/home/ian/git/bar_foo/<ipython-input-79-6c3965d5efed>\u001b[0m in \u001b[0;36m<module>\u001b[0;34m()\u001b[0m\n\u001b[0;32m----> 1\u001b[0;31m \u001b[0mbar\u001b[0m\u001b[0;34m.\u001b[0m\u001b[0mbaz\u001b[0m\u001b[0;34m\u001b[0m\u001b[0m\n\u001b[0m", 
        "\u001b[0;32m/home/ian/git/bar_foo/<ipython-input-76-7826a0440e57>\u001b[0m in \u001b[0;36m__getattr__\u001b[0;34m(self, name)\u001b[0m\n\u001b[1;32m      4\u001b[0m             \u001b[0;32mreturn\u001b[0m \u001b[0;34m'lizard'\u001b[0m\u001b[0;34m\u001b[0m\u001b[0m\n\u001b[1;32m      5\u001b[0m         raise AttributeError(\"%r object has no attribute %r\"\n\u001b[0;32m----> 6\u001b[0;31m             % (self.__class__.__name__, name))\n\u001b[0m", 
        "\u001b[0;31mAttributeError\u001b[0m: 'Lounge' object has no attribute 'baz'"
       ]
      }
     ], 
     "prompt_number": 79
    }, 
    {
     "cell_type": "markdown", 
     "source": [
      "### Class attribute > `__getattr__`"
     ]
    }, 
    {
     "cell_type": "code", 
     "collapsed": true, 
     "input": [
      "Lounge.foo = 'larry'"
     ], 
     "language": "python", 
     "outputs": [], 
     "prompt_number": 80
    }, 
    {
     "cell_type": "code", 
     "collapsed": false, 
     "input": [
      "bar.foo"
     ], 
     "language": "python", 
     "outputs": [
      {
       "output_type": "pyout", 
       "prompt_number": 81, 
       "text": [
        "'larry'"
       ]
      }
     ], 
     "prompt_number": 81
    }, 
    {
     "cell_type": "code", 
     "collapsed": true, 
     "input": [
      "del Lounge.foo"
     ], 
     "language": "python", 
     "outputs": [], 
     "prompt_number": 82
    }, 
    {
     "cell_type": "code", 
     "collapsed": false, 
     "input": [
      "bar.foo"
     ], 
     "language": "python", 
     "outputs": [
      {
       "output_type": "pyout", 
       "prompt_number": 83, 
       "text": [
        "'lizard'"
       ]
      }
     ], 
     "prompt_number": 83
    }, 
    {
     "cell_type": "markdown", 
     "source": [
      "## 2.6. MRO: Method (attribute) resolution order"
     ]
    }, 
    {
     "cell_type": "code", 
     "collapsed": true, 
     "input": [
      "class Structure(object):", 
      "    pass", 
      "class Dancing(Structure):", 
      "    pass", 
      "class Drinking(Structure):", 
      "    pass", 
      "class Bar(Dancing, Drinking):", 
      "    pass"
     ], 
     "language": "python", 
     "outputs": [], 
     "prompt_number": 84
    }, 
    {
     "cell_type": "code", 
     "collapsed": false, 
     "input": [
      "Bar.__mro__"
     ], 
     "language": "python", 
     "outputs": [
      {
       "output_type": "pyout", 
       "prompt_number": 85, 
       "text": [
        "(__main__.Bar, __main__.Dancing, __main__.Drinking, __main__.Structure, object)"
       ]
      }
     ], 
     "prompt_number": 85
    }, 
    {
     "cell_type": "code", 
     "collapsed": true, 
     "input": [
      "Structure.foo = 'bricks'", 
      "Drinking.foo = 'drinks'"
     ], 
     "language": "python", 
     "outputs": [], 
     "prompt_number": 86
    }, 
    {
     "cell_type": "code", 
     "collapsed": false, 
     "input": [
      "Bar.foo"
     ], 
     "language": "python", 
     "outputs": [
      {
       "output_type": "pyout", 
       "prompt_number": 87, 
       "text": [
        "'drinks'"
       ]
      }
     ], 
     "prompt_number": 87
    }, 
    {
     "cell_type": "markdown", 
     "source": [
      "Order recap:", 
      "", 
      "* object attributes", 
      "* class attributes and non-data descriptors in type's MRO", 
      "* `__getattr__` in type's MRO"
     ]
    }, 
    {
     "cell_type": "markdown", 
     "source": [
      "## 3.1. Running code in response to attribute access", 
      "", 
      "What about methods? There is something going on here:"
     ]
    }, 
    {
     "cell_type": "code", 
     "collapsed": true, 
     "input": [
      "class Bar(object):", 
      "    def foo(self):", 
      "        pass"
     ], 
     "language": "python", 
     "outputs": [], 
     "prompt_number": 88
    }, 
    {
     "cell_type": "code", 
     "collapsed": false, 
     "input": [
      "Bar.foo"
     ], 
     "language": "python", 
     "outputs": [
      {
       "output_type": "pyout", 
       "prompt_number": 89, 
       "text": [
        "<unbound method Bar.foo>"
       ]
      }
     ], 
     "prompt_number": 89
    }, 
    {
     "cell_type": "code", 
     "collapsed": true, 
     "input": [
      "bar = Bar()"
     ], 
     "language": "python", 
     "outputs": [], 
     "prompt_number": 90
    }, 
    {
     "cell_type": "code", 
     "collapsed": false, 
     "input": [
      "bar.foo"
     ], 
     "language": "python", 
     "outputs": [
      {
       "output_type": "pyout", 
       "prompt_number": 91, 
       "text": [
        "<bound method Bar.foo of <__main__.Bar object at 0x2d78910>>"
       ]
      }
     ], 
     "prompt_number": 91
    }, 
    {
     "cell_type": "markdown", 
     "source": [
      "### Assigning methods (really unusual to do this way!)"
     ]
    }, 
    {
     "cell_type": "code", 
     "collapsed": true, 
     "input": [
      "def foo(self):", 
      "    pass"
     ], 
     "language": "python", 
     "outputs": [], 
     "prompt_number": 92
    }, 
    {
     "cell_type": "code", 
     "collapsed": true, 
     "input": [
      "class Bar(object):", 
      "    pass"
     ], 
     "language": "python", 
     "outputs": [], 
     "prompt_number": 93
    }, 
    {
     "cell_type": "code", 
     "collapsed": true, 
     "input": [
      "Bar.foo = foo"
     ], 
     "language": "python", 
     "outputs": [], 
     "prompt_number": 94
    }, 
    {
     "cell_type": "code", 
     "collapsed": false, 
     "input": [
      "foo"
     ], 
     "language": "python", 
     "outputs": [
      {
       "output_type": "pyout", 
       "prompt_number": 95, 
       "text": [
        "<function __main__.foo>"
       ]
      }
     ], 
     "prompt_number": 95
    }, 
    {
     "cell_type": "code", 
     "collapsed": false, 
     "input": [
      "Bar.foo"
     ], 
     "language": "python", 
     "outputs": [
      {
       "output_type": "pyout", 
       "prompt_number": 96, 
       "text": [
        "<unbound method Bar.foo>"
       ]
      }
     ], 
     "prompt_number": 96
    }, 
    {
     "cell_type": "code", 
     "collapsed": false, 
     "input": [
      "Bar().foo"
     ], 
     "language": "python", 
     "outputs": [
      {
       "output_type": "pyout", 
       "prompt_number": 97, 
       "text": [
        "<bound method Bar.foo of <__main__.Bar object at 0x2d78950>>"
       ]
      }
     ], 
     "prompt_number": 97
    }, 
    {
     "cell_type": "code", 
     "collapsed": false, 
     "input": [
      "foo is Bar.__dict__['foo']"
     ], 
     "language": "python", 
     "outputs": [
      {
       "output_type": "pyout", 
       "prompt_number": 98, 
       "text": [
        "True"
       ]
      }
     ], 
     "prompt_number": 98
    }, 
    {
     "cell_type": "markdown", 
     "source": [
      "## 3.2. Non-data descriptors"
     ]
    }, 
    {
     "cell_type": "code", 
     "collapsed": true, 
     "input": [
      "class AboutFoo(object):", 
      "    def __get__(self, instance, owner):", 
      "        return instance, owner"
     ], 
     "language": "python", 
     "outputs": [], 
     "prompt_number": 99
    }, 
    {
     "cell_type": "code", 
     "collapsed": true, 
     "input": [
      "class Bar(object):", 
      "    foo = AboutFoo()"
     ], 
     "language": "python", 
     "outputs": [], 
     "prompt_number": 100
    }, 
    {
     "cell_type": "code", 
     "collapsed": false, 
     "input": [
      "Bar.foo"
     ], 
     "language": "python", 
     "outputs": [
      {
       "output_type": "pyout", 
       "prompt_number": 101, 
       "text": [
        "(None, __main__.Bar)"
       ]
      }
     ], 
     "prompt_number": 101
    }, 
    {
     "cell_type": "code", 
     "collapsed": false, 
     "input": [
      "bar = Bar()", 
      "bar.foo"
     ], 
     "language": "python", 
     "outputs": [
      {
       "output_type": "pyout", 
       "prompt_number": 102, 
       "text": [
        "(<__main__.Bar at 0x2d78e10>, __main__.Bar)"
       ]
      }
     ], 
     "prompt_number": 102
    }, 
    {
     "cell_type": "code", 
     "collapsed": false, 
     "input": [
      "bar.foo = 42", 
      "bar.foo"
     ], 
     "language": "python", 
     "outputs": [
      {
       "output_type": "pyout", 
       "prompt_number": 103, 
       "text": [
        "42"
       ]
      }
     ], 
     "prompt_number": 103
    }, 
    {
     "cell_type": "markdown", 
     "source": [
      "Methods, `staticmethod` and `classmethod` are implemented as non-data descriptors."
     ]
    }, 
    {
     "cell_type": "markdown", 
     "source": [
      "## 3.3. Data descriptors"
     ]
    }, 
    {
     "cell_type": "code", 
     "collapsed": true, 
     "input": [
      "class ThisIsMyFoo(object):", 
      "    def __get__(self, instance, owner):", 
      "        return instance, owner", 
      "    def __set__(self, instance, value):", 
      "        print (\"tried to set %r value to %r\" % (instance, value))"
     ], 
     "language": "python", 
     "outputs": [], 
     "prompt_number": 104
    }, 
    {
     "cell_type": "code", 
     "collapsed": true, 
     "input": [
      "class Bar(object):", 
      "    foo = ThisIsMyFoo()"
     ], 
     "language": "python", 
     "outputs": [], 
     "prompt_number": 105
    }, 
    {
     "cell_type": "code", 
     "collapsed": false, 
     "input": [
      "bar = Bar()", 
      "bar.foo"
     ], 
     "language": "python", 
     "outputs": [
      {
       "output_type": "pyout", 
       "prompt_number": 106, 
       "text": [
        "(<__main__.Bar at 0x2d78590>, __main__.Bar)"
       ]
      }
     ], 
     "prompt_number": 106
    }, 
    {
     "cell_type": "code", 
     "collapsed": false, 
     "input": [
      "bar.foo = 42"
     ], 
     "language": "python", 
     "outputs": [
      {
       "output_type": "stream", 
       "stream": "stdout", 
       "text": [
        "tried to set <__main__.Bar object at 0x2d78590> value to 42"
       ]
      }
     ], 
     "prompt_number": 107
    }, 
    {
     "cell_type": "markdown", 
     "source": [
      "`property` is implemented as a data descriptor.", 
      "", 
      "Order recap:", 
      "", 
      "* data descriptors in type's MRO", 
      "* object attributes", 
      "* class attributes and non-data descriptors in type's MRO", 
      "* `__getattr__` in type's MRO"
     ]
    }, 
    {
     "cell_type": "markdown", 
     "source": [
      "## 4.1. `__getattribute__`", 
      "", 
      "(yes, confusingly similar to `__getattr__`)"
     ]
    }, 
    {
     "cell_type": "code", 
     "collapsed": true, 
     "input": [
      "class Casino(object):", 
      "    def __getattribute__(self, name):", 
      "        if name == 'foo':", 
      "            return 'rat'", 
      "        return object.__getattribute__(self, name)"
     ], 
     "language": "python", 
     "outputs": [], 
     "prompt_number": 108
    }, 
    {
     "cell_type": "code", 
     "collapsed": true, 
     "input": [
      "bar = Casino()"
     ], 
     "language": "python", 
     "outputs": [], 
     "prompt_number": 109
    }, 
    {
     "cell_type": "code", 
     "collapsed": false, 
     "input": [
      "bar.foo"
     ], 
     "language": "python", 
     "outputs": [
      {
       "output_type": "pyout", 
       "prompt_number": 110, 
       "text": [
        "'rat'"
       ]
      }
     ], 
     "prompt_number": 110
    }, 
    {
     "cell_type": "code", 
     "collapsed": true, 
     "input": [
      "bar.foo = 'mouse'"
     ], 
     "language": "python", 
     "outputs": [], 
     "prompt_number": 111
    }, 
    {
     "cell_type": "code", 
     "collapsed": false, 
     "input": [
      "bar.foo"
     ], 
     "language": "python", 
     "outputs": [
      {
       "output_type": "pyout", 
       "prompt_number": 112, 
       "text": [
        "'rat'"
       ]
      }
     ], 
     "prompt_number": 112
    }, 
    {
     "cell_type": "markdown", 
     "source": [
      "`object.__getattribute__` (and `type._getattribute__`) are where all the magic happens,", 
      "here we can control or override almost everything about attribute access for objects of this type."
     ]
    }, 
    {
     "cell_type": "markdown", 
     "source": [
      "## 4.2. PyPy's transparent proxy"
     ]
    }, 
    {
     "cell_type": "markdown", 
     "source": [
      "Catch and modify everything access except `type(bar)`. You may choose type returned when creating the proxy.", 
      "", 
      "(not running in PyPy so example is missing)"
     ]
    }, 
    {
     "cell_type": "markdown", 
     "source": [
      "Final order:", 
      "", 
      "* PyPy transparent proxy", 
      "* `__getattribute__` in type's MRO", 
      "* data descriptors in type's MRO", 
      "* object attributes", 
      "* class attributes and non-data descriptors in type's MRO", 
      "* `__getattr__` in type's MRO"
     ]
    }, 
    {
     "cell_type": "markdown", 
     "source": [
      "## 4.3. All the `foo`"
     ]
    }, 
    {
     "cell_type": "code", 
     "collapsed": true, 
     "input": [
      "class Parent(object):", 
      "    def __getattribute__(self, name):", 
      "        if name == 'foo':", 
      "            return 'Second'", 
      "        return object.__getattribute__(self, name)", 
      "    foo = property(lambda self:'Fourth')", 
      "    def __getattr__(self, name):", 
      "        if name == 'foo':", 
      "            return 'Ninth'", 
      "        raise AttributeError(\"%r object has no attribute %r\"", 
      "            % (self.__class__.__name__, name))", 
      "", 
      "class Child(Parent):", 
      "    def __getattribute__(self, name):", 
      "        if name == 'foo':", 
      "            return 'First'", 
      "        return object.__getattribute__(self, name)", 
      "    foo = property(lambda self:'Third')", 
      "    def __getattr__(self, name):", 
      "        if name == 'foo':", 
      "            return 'Eighth'", 
      "        raise AttributeError(\"%r object has no attribute %r\"", 
      "            % (self.__class__.__name__, name))", 
      "        "
     ], 
     "language": "python", 
     "outputs": [], 
     "prompt_number": 113
    }, 
    {
     "cell_type": "code", 
     "collapsed": true, 
     "input": [
      "bar = Child()", 
      "bar.__dict__['foo'] = 'Fifth'"
     ], 
     "language": "python", 
     "outputs": [], 
     "prompt_number": 114
    }, 
    {
     "cell_type": "code", 
     "collapsed": false, 
     "input": [
      "bar.foo"
     ], 
     "language": "python", 
     "outputs": [
      {
       "output_type": "pyout", 
       "prompt_number": 115, 
       "text": [
        "'First'"
       ]
      }
     ], 
     "prompt_number": 115
    }, 
    {
     "cell_type": "code", 
     "collapsed": false, 
     "input": [
      "del Child.__getattribute__", 
      "bar.foo"
     ], 
     "language": "python", 
     "outputs": [
      {
       "output_type": "pyout", 
       "prompt_number": 116, 
       "text": [
        "'Second'"
       ]
      }
     ], 
     "prompt_number": 116
    }, 
    {
     "cell_type": "code", 
     "collapsed": false, 
     "input": [
      "del Parent.__getattribute__", 
      "bar.foo"
     ], 
     "language": "python", 
     "outputs": [
      {
       "output_type": "pyout", 
       "prompt_number": 117, 
       "text": [
        "'Third'"
       ]
      }
     ], 
     "prompt_number": 117
    }, 
    {
     "cell_type": "code", 
     "collapsed": false, 
     "input": [
      "del Child.foo", 
      "bar.foo"
     ], 
     "language": "python", 
     "outputs": [
      {
       "output_type": "pyout", 
       "prompt_number": 118, 
       "text": [
        "'Fourth'"
       ]
      }
     ], 
     "prompt_number": 118
    }, 
    {
     "cell_type": "code", 
     "collapsed": false, 
     "input": [
      "del Parent.foo", 
      "bar.foo"
     ], 
     "language": "python", 
     "outputs": [
      {
       "output_type": "pyout", 
       "prompt_number": 119, 
       "text": [
        "'Fifth'"
       ]
      }
     ], 
     "prompt_number": 119
    }, 
    {
     "cell_type": "code", 
     "collapsed": false, 
     "input": [
      "Child.foo = 'Sixth'", 
      "Parent.foo = 'Seventh'", 
      "bar.foo"
     ], 
     "language": "python", 
     "outputs": [
      {
       "output_type": "pyout", 
       "prompt_number": 120, 
       "text": [
        "'Fifth'"
       ]
      }
     ], 
     "prompt_number": 120
    }, 
    {
     "cell_type": "code", 
     "collapsed": false, 
     "input": [
      "del bar.foo", 
      "bar.foo"
     ], 
     "language": "python", 
     "outputs": [
      {
       "output_type": "pyout", 
       "prompt_number": 121, 
       "text": [
        "'Sixth'"
       ]
      }
     ], 
     "prompt_number": 121
    }, 
    {
     "cell_type": "code", 
     "collapsed": false, 
     "input": [
      "del Child.foo", 
      "bar.foo"
     ], 
     "language": "python", 
     "outputs": [
      {
       "output_type": "pyout", 
       "prompt_number": 122, 
       "text": [
        "'Seventh'"
       ]
      }
     ], 
     "prompt_number": 122
    }, 
    {
     "cell_type": "code", 
     "collapsed": false, 
     "input": [
      "del Parent.foo", 
      "bar.foo"
     ], 
     "language": "python", 
     "outputs": [
      {
       "output_type": "pyout", 
       "prompt_number": 123, 
       "text": [
        "'Eighth'"
       ]
      }
     ], 
     "prompt_number": 123
    }, 
    {
     "cell_type": "code", 
     "collapsed": false, 
     "input": [
      "del Child.__getattr__", 
      "bar.foo"
     ], 
     "language": "python", 
     "outputs": [
      {
       "output_type": "pyout", 
       "prompt_number": 124, 
       "text": [
        "'Ninth'"
       ]
      }
     ], 
     "prompt_number": 124
    }, 
    {
     "cell_type": "markdown", 
     "source": [
      "## 4.4. Coping"
     ]
    }, 
    {
     "cell_type": "markdown", 
     "source": [
      "1. Don't over-use classes (`namedtuple` is quite nice!)", 
      "2. When you use classes, don't use inheritance", 
      "3. When you use inheritance, don't nest deeply", 
      "4. Don't use `__getattr__` unless you really need it", 
      "5. Don't use `__getattribute__`, you probably don't need it"
     ]
    }, 
    {
     "cell_type": "markdown", 
     "source": [
      "## 5.1. Still here? What, you want more evil?"
     ]
    }, 
    {
     "cell_type": "code", 
     "collapsed": true, 
     "input": [
      "class YouGetAFooEveryoneGetsAFoo(type):", 
      "    def __call__(cls):", 
      "        obj = type.__call__(cls)", 
      "        obj.foo = 'under your seat'", 
      "        return obj", 
      "                                                        ", 
      "class Bar(object):", 
      "    __metaclass__ = YouGetAFooEveryoneGetsAFoo"
     ], 
     "language": "python", 
     "outputs": [], 
     "prompt_number": 125
    }, 
    {
     "cell_type": "code", 
     "collapsed": false, 
     "input": [
      "Bar().foo"
     ], 
     "language": "python", 
     "outputs": [
      {
       "output_type": "pyout", 
       "prompt_number": 126, 
       "text": [
        "'under your seat'"
       ]
      }
     ], 
     "prompt_number": 126
    }, 
    {
     "cell_type": "markdown", 
     "source": [
      "## 5.2. Some people just want to watch the world burn"
     ]
    }, 
    {
     "cell_type": "code", 
     "collapsed": true, 
     "input": [
      "class Bar(object):", 
      "    foo = 'steak'", 
      "    baz = 'pogo'", 
      "", 
      "def i_think_you_meant_baz(f):", 
      "    import marshal", 
      "    f.func_code = marshal.loads(marshal.dumps(", 
      "        f.func_code).replace('foo', 'baz'))", 
      "    return f"
     ], 
     "language": "python", 
     "outputs": [], 
     "prompt_number": 127
    }, 
    {
     "cell_type": "code", 
     "collapsed": true, 
     "input": [
      "@i_think_you_meant_baz", 
      "def dinner():", 
      "    print(Bar.foo)"
     ], 
     "language": "python", 
     "outputs": [], 
     "prompt_number": 128
    }, 
    {
     "cell_type": "code", 
     "collapsed": false, 
     "input": [
      "dinner()"
     ], 
     "language": "python", 
     "outputs": [
      {
       "output_type": "stream", 
       "stream": "stdout", 
       "text": [
        "pogo"
       ]
      }
     ], 
     "prompt_number": 129
    }
   ]
  }
 ]
}